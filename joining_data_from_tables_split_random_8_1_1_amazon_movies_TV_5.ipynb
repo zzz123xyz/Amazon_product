{
 "cells": [
  {
   "cell_type": "code",
   "execution_count": 11,
   "id": "a42f68c4-91de-4382-94a3-ea6ae2b07b27",
   "metadata": {},
   "outputs": [
    {
     "name": "stdout",
     "output_type": "stream",
     "text": []
    },
    {
     "name": "stdout",
     "output_type": "stream",
     "text": []
    },
    {
     "name": "stdout",
     "output_type": "stream",
     "text": [
      "/data/gpfs/projects/punim1395/workspace/dataset/Amazon_review/scripts\n"
     ]
    }
   ],
   "source": [
    "import pandas as pd\n",
    "import sys\n",
    "from pathlib import Path\n",
    "import numpy as np\n",
    "from itertools import product\n",
    "from tqdm import tqdm\n",
    "# sys.path.append('/data/gpfs/projects/punim1395/workspace/DeepCTR-Torch')\n",
    "# from ..deepctr_torch.layers.utils import slice_arrays\n",
    "!pwd"
   ]
  },
  {
   "cell_type": "code",
   "execution_count": 12,
   "id": "e03fb72e-2683-41bd-b99b-4b94d50c458d",
   "metadata": {},
   "outputs": [],
   "source": [
    "csvpath = Path('../small_subsets/Movies_and_TV/reviews_Movies_and_TV_5.csv')\n",
    "csvpath_noname = csvpath.parent"
   ]
  },
  {
   "cell_type": "code",
   "execution_count": 13,
   "id": "00e41ca2-efc4-4044-bb38-3ab20f9fcc46",
   "metadata": {},
   "outputs": [
    {
     "data": {
      "text/plain": [
       "PosixPath('../small_subsets/Movies_and_TV')"
      ]
     },
     "execution_count": 5,
     "metadata": {},
     "output_type": "execute_result"
    }
   ],
   "source": [
    "csvpath_noname"
   ]
  },
  {
   "cell_type": "code",
   "execution_count": 14,
   "id": "29706991-1b74-45c4-a865-c0193b2a3c78",
   "metadata": {},
   "outputs": [
    {
     "name": "stderr",
     "output_type": "stream",
     "text": [
      "/home/liangchenl/.conda/envs/jupyterlab-debugger/lib/python3.9/site-packages/IPython/core/interactiveshell.py:3169: DtypeWarning: Columns (4,9) have mixed types.Specify dtype option on import or set low_memory=False.\n",
      "  has_raised = await self.run_ast_nodes(code_ast.body, cell_name,\n"
     ]
    }
   ],
   "source": [
    "meta_path = Path('../small_subsets/Movies_and_TV/\\\n",
    "meta_Movies_and_TV_valid.csv')\n",
    "meta_Movies_and_TV = pd.read_csv(meta_path).iloc[:, 1:]\n",
    "ap_Movies_and_TV = meta_Movies_and_TV[['asin', 'path']]"
   ]
  },
  {
   "cell_type": "code",
   "execution_count": 15,
   "id": "74bad80a-e9f9-41b8-a393-8fcf0ae6ae65",
   "metadata": {},
   "outputs": [],
   "source": [
    "csv_Movies_and_TV_5 = pd.read_csv(csvpath)"
   ]
  },
  {
   "cell_type": "code",
   "execution_count": 16,
   "id": "8a0c56cb-8313-4c3a-8a59-8979f0ec512d",
   "metadata": {},
   "outputs": [
    {
     "data": {
      "text/html": [
       "<div>\n",
       "<style scoped>\n",
       "    .dataframe tbody tr th:only-of-type {\n",
       "        vertical-align: middle;\n",
       "    }\n",
       "\n",
       "    .dataframe tbody tr th {\n",
       "        vertical-align: top;\n",
       "    }\n",
       "\n",
       "    .dataframe thead th {\n",
       "        text-align: right;\n",
       "    }\n",
       "</style>\n",
       "<table border=\"1\" class=\"dataframe\">\n",
       "  <thead>\n",
       "    <tr style=\"text-align: right;\">\n",
       "      <th></th>\n",
       "      <th>Unnamed: 0</th>\n",
       "      <th>reviewerID</th>\n",
       "      <th>asin</th>\n",
       "      <th>reviewerName</th>\n",
       "      <th>helpful</th>\n",
       "      <th>reviewText</th>\n",
       "      <th>overall</th>\n",
       "      <th>summary</th>\n",
       "      <th>unixReviewTime</th>\n",
       "      <th>reviewTime</th>\n",
       "    </tr>\n",
       "  </thead>\n",
       "  <tbody>\n",
       "    <tr>\n",
       "      <th>0</th>\n",
       "      <td>0</td>\n",
       "      <td>ADZPIG9QOCDG5</td>\n",
       "      <td>0005019281</td>\n",
       "      <td>Alice L. Larson \"alice-loves-books\"</td>\n",
       "      <td>[0, 0]</td>\n",
       "      <td>This is a charming version of the classic Dick...</td>\n",
       "      <td>4.0</td>\n",
       "      <td>good version of a classic</td>\n",
       "      <td>1203984000</td>\n",
       "      <td>02 26, 2008</td>\n",
       "    </tr>\n",
       "    <tr>\n",
       "      <th>1</th>\n",
       "      <td>1</td>\n",
       "      <td>A35947ZP82G7JH</td>\n",
       "      <td>0005019281</td>\n",
       "      <td>Amarah Strack</td>\n",
       "      <td>[0, 0]</td>\n",
       "      <td>It was good but not as emotionally moving as t...</td>\n",
       "      <td>3.0</td>\n",
       "      <td>Good but not as moving</td>\n",
       "      <td>1388361600</td>\n",
       "      <td>12 30, 2013</td>\n",
       "    </tr>\n",
       "    <tr>\n",
       "      <th>2</th>\n",
       "      <td>2</td>\n",
       "      <td>A3UORV8A9D5L2E</td>\n",
       "      <td>0005019281</td>\n",
       "      <td>Amazon Customer</td>\n",
       "      <td>[0, 0]</td>\n",
       "      <td>Don't get me wrong, Winkler is a wonderful cha...</td>\n",
       "      <td>3.0</td>\n",
       "      <td>Winkler's Performance was ok at best!</td>\n",
       "      <td>1388361600</td>\n",
       "      <td>12 30, 2013</td>\n",
       "    </tr>\n",
       "    <tr>\n",
       "      <th>3</th>\n",
       "      <td>3</td>\n",
       "      <td>A1VKW06X1O2X7V</td>\n",
       "      <td>0005019281</td>\n",
       "      <td>Amazon Customer \"Softmill\"</td>\n",
       "      <td>[0, 0]</td>\n",
       "      <td>Henry Winkler is very good in this twist on th...</td>\n",
       "      <td>5.0</td>\n",
       "      <td>It's an enjoyable twist on the classic story</td>\n",
       "      <td>1202860800</td>\n",
       "      <td>02 13, 2008</td>\n",
       "    </tr>\n",
       "    <tr>\n",
       "      <th>4</th>\n",
       "      <td>4</td>\n",
       "      <td>A3R27T4HADWFFJ</td>\n",
       "      <td>0005019281</td>\n",
       "      <td>BABE</td>\n",
       "      <td>[0, 0]</td>\n",
       "      <td>This is one of the best Scrooge movies out.  H...</td>\n",
       "      <td>4.0</td>\n",
       "      <td>Best Scrooge yet</td>\n",
       "      <td>1387670400</td>\n",
       "      <td>12 22, 2013</td>\n",
       "    </tr>\n",
       "  </tbody>\n",
       "</table>\n",
       "</div>"
      ],
      "text/plain": [
       "   Unnamed: 0      reviewerID        asin  \\\n",
       "0           0   ADZPIG9QOCDG5  0005019281   \n",
       "1           1  A35947ZP82G7JH  0005019281   \n",
       "2           2  A3UORV8A9D5L2E  0005019281   \n",
       "3           3  A1VKW06X1O2X7V  0005019281   \n",
       "4           4  A3R27T4HADWFFJ  0005019281   \n",
       "\n",
       "                          reviewerName helpful  \\\n",
       "0  Alice L. Larson \"alice-loves-books\"  [0, 0]   \n",
       "1                        Amarah Strack  [0, 0]   \n",
       "2                      Amazon Customer  [0, 0]   \n",
       "3           Amazon Customer \"Softmill\"  [0, 0]   \n",
       "4                                 BABE  [0, 0]   \n",
       "\n",
       "                                          reviewText  overall  \\\n",
       "0  This is a charming version of the classic Dick...      4.0   \n",
       "1  It was good but not as emotionally moving as t...      3.0   \n",
       "2  Don't get me wrong, Winkler is a wonderful cha...      3.0   \n",
       "3  Henry Winkler is very good in this twist on th...      5.0   \n",
       "4  This is one of the best Scrooge movies out.  H...      4.0   \n",
       "\n",
       "                                        summary  unixReviewTime   reviewTime  \n",
       "0                     good version of a classic      1203984000  02 26, 2008  \n",
       "1                        Good but not as moving      1388361600  12 30, 2013  \n",
       "2         Winkler's Performance was ok at best!      1388361600  12 30, 2013  \n",
       "3  It's an enjoyable twist on the classic story      1202860800  02 13, 2008  \n",
       "4                              Best Scrooge yet      1387670400  12 22, 2013  "
      ]
     },
     "execution_count": 8,
     "metadata": {},
     "output_type": "execute_result"
    }
   ],
   "source": [
    "csv_Movies_and_TV_5.head()"
   ]
  },
  {
   "cell_type": "code",
   "execution_count": 18,
   "id": "08358777-b2f4-4e1d-9efe-a51b36ce40c4",
   "metadata": {},
   "outputs": [
    {
     "name": "stdout",
     "output_type": "stream",
     "text": [
      "1697533\n",
      "198933\n"
     ]
    }
   ],
   "source": [
    "print(len(csv_Movies_and_TV_5))\n",
    "print(len(ap_Movies_and_TV))"
   ]
  },
  {
   "cell_type": "code",
   "execution_count": 91,
   "id": "f9b6dc0c-0aec-4d26-8906-6be63c9667f7",
   "metadata": {},
   "outputs": [
    {
     "data": {
      "text/html": [
       "<div>\n",
       "<style scoped>\n",
       "    .dataframe tbody tr th:only-of-type {\n",
       "        vertical-align: middle;\n",
       "    }\n",
       "\n",
       "    .dataframe tbody tr th {\n",
       "        vertical-align: top;\n",
       "    }\n",
       "\n",
       "    .dataframe thead th {\n",
       "        text-align: right;\n",
       "    }\n",
       "</style>\n",
       "<table border=\"1\" class=\"dataframe\">\n",
       "  <thead>\n",
       "    <tr style=\"text-align: right;\">\n",
       "      <th></th>\n",
       "      <th>Unnamed: 0</th>\n",
       "      <th>reviewerID</th>\n",
       "      <th>asin</th>\n",
       "      <th>reviewerName</th>\n",
       "      <th>helpful</th>\n",
       "      <th>reviewText</th>\n",
       "      <th>overall</th>\n",
       "      <th>summary</th>\n",
       "      <th>unixReviewTime</th>\n",
       "      <th>reviewTime</th>\n",
       "      <th>Binary_rating</th>\n",
       "    </tr>\n",
       "  </thead>\n",
       "  <tbody>\n",
       "    <tr>\n",
       "      <th>1697528</th>\n",
       "      <td>1697528</td>\n",
       "      <td>AV657BUYHHXZ2</td>\n",
       "      <td>B00LT1JHLW</td>\n",
       "      <td>Mike Rules \"Mike\"</td>\n",
       "      <td>[1, 14]</td>\n",
       "      <td>wow $269.99 for the entire series on Blu Ray??...</td>\n",
       "      <td>1.0</td>\n",
       "      <td>Way to Expensive!! WB = GREED</td>\n",
       "      <td>1406073600</td>\n",
       "      <td>07 23, 2014</td>\n",
       "      <td>False</td>\n",
       "    </tr>\n",
       "    <tr>\n",
       "      <th>1697529</th>\n",
       "      <td>1697529</td>\n",
       "      <td>A17W587EH23J0Q</td>\n",
       "      <td>B00LT1JHLW</td>\n",
       "      <td>Ron2900 \"Ron\"</td>\n",
       "      <td>[32, 48]</td>\n",
       "      <td>Finally, the holy grail of tv-on-dvd boxsets i...</td>\n",
       "      <td>5.0</td>\n",
       "      <td>HOLY BAT-BOXSET, BATMAN... I never thought thi...</td>\n",
       "      <td>1405641600</td>\n",
       "      <td>07 18, 2014</td>\n",
       "      <td>True</td>\n",
       "    </tr>\n",
       "    <tr>\n",
       "      <th>1697530</th>\n",
       "      <td>1697530</td>\n",
       "      <td>A3DE438TF1A958</td>\n",
       "      <td>B00LT1JHLW</td>\n",
       "      <td>thomas henry</td>\n",
       "      <td>[3, 10]</td>\n",
       "      <td>Could this be a true or I'm i dreaming batman ...</td>\n",
       "      <td>5.0</td>\n",
       "      <td>prayers have been answered because batman 60s ...</td>\n",
       "      <td>1405728000</td>\n",
       "      <td>07 19, 2014</td>\n",
       "      <td>True</td>\n",
       "    </tr>\n",
       "    <tr>\n",
       "      <th>1697531</th>\n",
       "      <td>1697531</td>\n",
       "      <td>A2RWCXDMANY0LW</td>\n",
       "      <td>B00LT1JHLW</td>\n",
       "      <td>wheev</td>\n",
       "      <td>[0, 4]</td>\n",
       "      <td>I've been a fan of the series since I was a yo...</td>\n",
       "      <td>5.0</td>\n",
       "      <td>can't Wait!</td>\n",
       "      <td>1405987200</td>\n",
       "      <td>07 22, 2014</td>\n",
       "      <td>True</td>\n",
       "    </tr>\n",
       "    <tr>\n",
       "      <th>1697532</th>\n",
       "      <td>1697532</td>\n",
       "      <td>A3ROPC55BE2OM9</td>\n",
       "      <td>B00LT1JHLW</td>\n",
       "      <td>WingLT</td>\n",
       "      <td>[11, 23]</td>\n",
       "      <td>People seriously need to wake up and realize t...</td>\n",
       "      <td>5.0</td>\n",
       "      <td>The Price is Insane? People Really Need to Wak...</td>\n",
       "      <td>1405728000</td>\n",
       "      <td>07 19, 2014</td>\n",
       "      <td>True</td>\n",
       "    </tr>\n",
       "  </tbody>\n",
       "</table>\n",
       "</div>"
      ],
      "text/plain": [
       "         Unnamed: 0      reviewerID        asin       reviewerName   helpful  \\\n",
       "1697528     1697528   AV657BUYHHXZ2  B00LT1JHLW  Mike Rules \"Mike\"   [1, 14]   \n",
       "1697529     1697529  A17W587EH23J0Q  B00LT1JHLW      Ron2900 \"Ron\"  [32, 48]   \n",
       "1697530     1697530  A3DE438TF1A958  B00LT1JHLW       thomas henry   [3, 10]   \n",
       "1697531     1697531  A2RWCXDMANY0LW  B00LT1JHLW              wheev    [0, 4]   \n",
       "1697532     1697532  A3ROPC55BE2OM9  B00LT1JHLW             WingLT  [11, 23]   \n",
       "\n",
       "                                                reviewText  overall  \\\n",
       "1697528  wow $269.99 for the entire series on Blu Ray??...      1.0   \n",
       "1697529  Finally, the holy grail of tv-on-dvd boxsets i...      5.0   \n",
       "1697530  Could this be a true or I'm i dreaming batman ...      5.0   \n",
       "1697531  I've been a fan of the series since I was a yo...      5.0   \n",
       "1697532  People seriously need to wake up and realize t...      5.0   \n",
       "\n",
       "                                                   summary  unixReviewTime  \\\n",
       "1697528                      Way to Expensive!! WB = GREED      1406073600   \n",
       "1697529  HOLY BAT-BOXSET, BATMAN... I never thought thi...      1405641600   \n",
       "1697530  prayers have been answered because batman 60s ...      1405728000   \n",
       "1697531                                        can't Wait!      1405987200   \n",
       "1697532  The Price is Insane? People Really Need to Wak...      1405728000   \n",
       "\n",
       "          reviewTime  Binary_rating  \n",
       "1697528  07 23, 2014          False  \n",
       "1697529  07 18, 2014           True  \n",
       "1697530  07 19, 2014           True  \n",
       "1697531  07 22, 2014           True  \n",
       "1697532  07 19, 2014           True  "
      ]
     },
     "execution_count": 28,
     "metadata": {},
     "output_type": "execute_result"
    }
   ],
   "source": [
    "csv_Movies_and_TV_5.tail()"
   ]
  },
  {
   "cell_type": "code",
   "execution_count": 85,
   "id": "fc9fe858-68b5-4d0d-a88b-32c4e59e86b4",
   "metadata": {},
   "outputs": [],
   "source": [
    "csv_Movies_and_TV_5['Binary_rating'] = csv_Movies_and_TV_5['overall'].astype(int)>2"
   ]
  },
  {
   "cell_type": "code",
   "execution_count": 106,
   "id": "7e99e79d-598c-4c3c-a433-e644a26cabc9",
   "metadata": {
    "tags": []
   },
   "outputs": [
    {
     "data": {
      "text/plain": [
       "1490904"
      ]
     },
     "execution_count": 33,
     "metadata": {},
     "output_type": "execute_result"
    }
   ],
   "source": [
    "num_pos = len(csv_Movies_and_TV_5[csv_Movies_and_TV_5['Binary_rating'] == True]);\n",
    "num_pos"
   ]
  },
  {
   "cell_type": "code",
   "execution_count": 97,
   "id": "5bb2d2ee-7931-4a8e-8acb-8f4e5ea4d573",
   "metadata": {
    "tags": []
   },
   "outputs": [
    {
     "data": {
      "text/plain": [
       "206629"
      ]
     },
     "execution_count": 30,
     "metadata": {},
     "output_type": "execute_result"
    }
   ],
   "source": [
    "num_neg = len(csv_Movies_and_TV_5[csv_Movies_and_TV_5['Binary_rating'] == False]); num_neg"
   ]
  },
  {
   "cell_type": "code",
   "execution_count": 103,
   "id": "99c8ebd6-05f8-4b8e-8203-1e357bd456a6",
   "metadata": {
    "tags": []
   },
   "outputs": [
    {
     "data": {
      "text/plain": [
       "1284275"
      ]
     },
     "execution_count": 32,
     "metadata": {},
     "output_type": "execute_result"
    }
   ],
   "source": [
    "num_diff = num_pos - num_neg; num_diff"
   ]
  },
  {
   "cell_type": "code",
   "execution_count": 109,
   "id": "e6b40df0-3081-48b2-b3bc-dc227927e8af",
   "metadata": {
    "tags": []
   },
   "outputs": [],
   "source": [
    "rID_all = np.unique(csv_Movies_and_TV_5['reviewerID'])\n",
    "asin_all = np.unique(csv_Movies_and_TV_5['asin'])"
   ]
  },
  {
   "cell_type": "code",
   "execution_count": 112,
   "id": "af0da6ac-7348-4087-90ca-7d356fe2d2af",
   "metadata": {},
   "outputs": [],
   "source": [
    "num_diff = num_pos - num_neg\n",
    "num_csv_Movies_and_TV_5_balance = len(csv_Movies_and_TV_5)+num_diff\n",
    "ra_all = np.column_stack((np.array(csv_Movies_and_TV_5['reviewerID']),\n",
    "                          np.array(csv_Movies_and_TV_5['asin'])))\n",
    "ra_all = ra_all.astype(str)\n",
    "ra_all_balance = ra_all\n",
    "while True:\n",
    "    rID_extra_index = np.random.choice(len(rID_all), num_diff)\n",
    "    rID_extra = rID_all[rID_extra_index]\n",
    "    rID_extra = rID_extra.astype(str)\n",
    "    asin_extra_index = np.random.choice(len(asin_all), num_diff)\n",
    "    asin_extra = asin_all[asin_extra_index]\n",
    "    asin_extra = asin_extra.astype(str)\n",
    "    ra_extra_index = np.column_stack((rID_extra_index, asin_extra_index))\n",
    "    ra_extra = np.column_stack((rID_extra, asin_extra))\n",
    "    ra_all_balance = np.concatenate((ra_all_balance, ra_extra))\n",
    "    ra_all_balance, ra_index = np.unique(ra_all_balance, axis=0, return_index=True)\n",
    "    ra_all_balance = ra_all_balance[np.argsort(ra_index)]\n",
    "    if len(ra_all_balance) < num_csv_Movies_and_TV_5_balance:\n",
    "        num_diff = num_csv_Movies_and_TV_5_balance - len(ra_all_balance)\n",
    "    else:\n",
    "        break"
   ]
  },
  {
   "cell_type": "code",
   "execution_count": 115,
   "id": "e134ca4b-b00c-487f-be3b-b9ba4011ea17",
   "metadata": {},
   "outputs": [],
   "source": [
    "sample_extra = np.array([0.]*(num_pos - num_neg))\n",
    "overall_col = np.array(csv_Movies_and_TV_5['overall'])\n",
    "overall_col = np.concatenate([overall_col, sample_extra])\n",
    "overall_col = overall_col.astype('int')"
   ]
  },
  {
   "cell_type": "code",
   "execution_count": 130,
   "id": "f26a26bd-92e4-4747-a5ce-e2b68e139bd8",
   "metadata": {},
   "outputs": [
    {
     "data": {
      "text/plain": [
       "array([['ADZPIG9QOCDG5', '0005019281'],\n",
       "       ['A35947ZP82G7JH', '0005019281'],\n",
       "       ['A3UORV8A9D5L2E', '0005019281'],\n",
       "       ...,\n",
       "       ['A38EGLEZ5CFVAT', 'B0013JKXA4'],\n",
       "       ['A39N0BN4B2Q7F', 'B00005TNFY'],\n",
       "       ['A10FLVDK4WFFDQ', 'B003VMFWXO']], dtype='<U21')"
      ]
     },
     "execution_count": 39,
     "metadata": {},
     "output_type": "execute_result"
    }
   ],
   "source": [
    "ra_all_balance"
   ]
  },
  {
   "cell_type": "code",
   "execution_count": 122,
   "id": "82403c35-bc04-4b01-82ad-6dff794a8029",
   "metadata": {},
   "outputs": [],
   "source": [
    "rao_all_balance = ra_all_balance"
   ]
  },
  {
   "cell_type": "code",
   "execution_count": 139,
   "id": "60474b31-7152-4d4b-8311-cd0254aefffb",
   "metadata": {},
   "outputs": [],
   "source": [
    "rao_all_balance = np.column_stack((rao_all_balance, overall_col.astype(np.int8)))"
   ]
  },
  {
   "cell_type": "code",
   "execution_count": 142,
   "id": "00c3f618-9cf1-47b6-a433-9bf4ce1d5bf3",
   "metadata": {},
   "outputs": [
    {
     "data": {
      "text/plain": [
       "array(['A5NYUBEKXFLX5', '0005019281', '5'], dtype='<U21')"
      ]
     },
     "execution_count": 41,
     "metadata": {},
     "output_type": "execute_result"
    }
   ],
   "source": [
    "rao_all_balance[6]"
   ]
  },
  {
   "cell_type": "code",
   "execution_count": 145,
   "id": "70f2da01-5c56-405d-94fe-9fddadb8f301",
   "metadata": {},
   "outputs": [],
   "source": [
    "df = pd.DataFrame(rao_all_balance, columns = ['reviewerID', 'asin', 'overall'])"
   ]
  },
  {
   "cell_type": "code",
   "execution_count": 151,
   "id": "d5ca7051-a9eb-4856-b2ed-83055bda0b7f",
   "metadata": {},
   "outputs": [],
   "source": [
    "df['Binary_rating'] = df['overall'].astype(int)>2"
   ]
  },
  {
   "cell_type": "code",
   "execution_count": 161,
   "id": "df44ef84-f4e7-4f6c-acae-3e17d1966714",
   "metadata": {},
   "outputs": [],
   "source": [
    "rao_all_balance_path = csvpath_noname/'rao_all_5_balance.csv'"
   ]
  },
  {
   "cell_type": "code",
   "execution_count": 164,
   "id": "d141cbe0-f8e1-4545-b0c1-6f0900b80f6a",
   "metadata": {},
   "outputs": [],
   "source": [
    "df.to_csv(rao_all_balance_path)"
   ]
  },
  {
   "cell_type": "code",
   "execution_count": 245,
   "id": "efa2ae21-4a05-43d5-8d21-0d61d08cd0b9",
   "metadata": {},
   "outputs": [
    {
     "data": {
      "text/html": [
       "<div>\n",
       "<style scoped>\n",
       "    .dataframe tbody tr th:only-of-type {\n",
       "        vertical-align: middle;\n",
       "    }\n",
       "\n",
       "    .dataframe tbody tr th {\n",
       "        vertical-align: top;\n",
       "    }\n",
       "\n",
       "    .dataframe thead th {\n",
       "        text-align: right;\n",
       "    }\n",
       "</style>\n",
       "<table border=\"1\" class=\"dataframe\">\n",
       "  <thead>\n",
       "    <tr style=\"text-align: right;\">\n",
       "      <th></th>\n",
       "      <th>reviewerID</th>\n",
       "      <th>asin</th>\n",
       "      <th>overall</th>\n",
       "      <th>Binary_rating</th>\n",
       "    </tr>\n",
       "  </thead>\n",
       "  <tbody>\n",
       "    <tr>\n",
       "      <th>0</th>\n",
       "      <td>ADZPIG9QOCDG5</td>\n",
       "      <td>0005019281</td>\n",
       "      <td>4</td>\n",
       "      <td>True</td>\n",
       "    </tr>\n",
       "    <tr>\n",
       "      <th>1</th>\n",
       "      <td>A35947ZP82G7JH</td>\n",
       "      <td>0005019281</td>\n",
       "      <td>3</td>\n",
       "      <td>True</td>\n",
       "    </tr>\n",
       "    <tr>\n",
       "      <th>2</th>\n",
       "      <td>A3UORV8A9D5L2E</td>\n",
       "      <td>0005019281</td>\n",
       "      <td>3</td>\n",
       "      <td>True</td>\n",
       "    </tr>\n",
       "    <tr>\n",
       "      <th>3</th>\n",
       "      <td>A1VKW06X1O2X7V</td>\n",
       "      <td>0005019281</td>\n",
       "      <td>5</td>\n",
       "      <td>True</td>\n",
       "    </tr>\n",
       "    <tr>\n",
       "      <th>4</th>\n",
       "      <td>A3R27T4HADWFFJ</td>\n",
       "      <td>0005019281</td>\n",
       "      <td>4</td>\n",
       "      <td>True</td>\n",
       "    </tr>\n",
       "  </tbody>\n",
       "</table>\n",
       "</div>"
      ],
      "text/plain": [
       "       reviewerID        asin overall  Binary_rating\n",
       "0   ADZPIG9QOCDG5  0005019281       4           True\n",
       "1  A35947ZP82G7JH  0005019281       3           True\n",
       "2  A3UORV8A9D5L2E  0005019281       3           True\n",
       "3  A1VKW06X1O2X7V  0005019281       5           True\n",
       "4  A3R27T4HADWFFJ  0005019281       4           True"
      ]
     },
     "execution_count": 74,
     "metadata": {},
     "output_type": "execute_result"
    }
   ],
   "source": [
    "df.head()"
   ]
  },
  {
   "cell_type": "code",
   "execution_count": 200,
   "id": "9591167a-80ac-4de8-a265-a59b8745c988",
   "metadata": {},
   "outputs": [],
   "source": [
    "df_random_raob = df.sample(frac=1) \n",
    "# raob means rID asin overall Binary_rating"
   ]
  },
  {
   "cell_type": "code",
   "execution_count": 242,
   "id": "62bec43b-50f4-4a0d-b283-7190fe573eff",
   "metadata": {},
   "outputs": [
    {
     "data": {
      "text/html": [
       "<div>\n",
       "<style scoped>\n",
       "    .dataframe tbody tr th:only-of-type {\n",
       "        vertical-align: middle;\n",
       "    }\n",
       "\n",
       "    .dataframe tbody tr th {\n",
       "        vertical-align: top;\n",
       "    }\n",
       "\n",
       "    .dataframe thead th {\n",
       "        text-align: right;\n",
       "    }\n",
       "</style>\n",
       "<table border=\"1\" class=\"dataframe\">\n",
       "  <thead>\n",
       "    <tr style=\"text-align: right;\">\n",
       "      <th></th>\n",
       "      <th>reviewerID</th>\n",
       "      <th>asin</th>\n",
       "      <th>overall</th>\n",
       "      <th>Binary_rating</th>\n",
       "    </tr>\n",
       "  </thead>\n",
       "  <tbody>\n",
       "    <tr>\n",
       "      <th>1044335</th>\n",
       "      <td>AQ9KPZLITYP3M</td>\n",
       "      <td>B000M9BPGM</td>\n",
       "      <td>1</td>\n",
       "      <td>False</td>\n",
       "    </tr>\n",
       "    <tr>\n",
       "      <th>2957855</th>\n",
       "      <td>A3I1VYV6NN83WR</td>\n",
       "      <td>B00006IUFT</td>\n",
       "      <td>0</td>\n",
       "      <td>False</td>\n",
       "    </tr>\n",
       "    <tr>\n",
       "      <th>2282437</th>\n",
       "      <td>A81TG8ZBUFAK4</td>\n",
       "      <td>630196019X</td>\n",
       "      <td>0</td>\n",
       "      <td>False</td>\n",
       "    </tr>\n",
       "    <tr>\n",
       "      <th>2165023</th>\n",
       "      <td>A2DDKFU4NDJ15K</td>\n",
       "      <td>B00005TNEY</td>\n",
       "      <td>0</td>\n",
       "      <td>False</td>\n",
       "    </tr>\n",
       "    <tr>\n",
       "      <th>1192002</th>\n",
       "      <td>A6J7UPYUI96XO</td>\n",
       "      <td>B001FQLMTQ</td>\n",
       "      <td>3</td>\n",
       "      <td>True</td>\n",
       "    </tr>\n",
       "  </tbody>\n",
       "</table>\n",
       "</div>"
      ],
      "text/plain": [
       "             reviewerID        asin overall  Binary_rating\n",
       "1044335   AQ9KPZLITYP3M  B000M9BPGM       1          False\n",
       "2957855  A3I1VYV6NN83WR  B00006IUFT       0          False\n",
       "2282437   A81TG8ZBUFAK4  630196019X       0          False\n",
       "2165023  A2DDKFU4NDJ15K  B00005TNEY       0          False\n",
       "1192002   A6J7UPYUI96XO  B001FQLMTQ       3           True"
      ]
     },
     "execution_count": 73,
     "metadata": {},
     "output_type": "execute_result"
    }
   ],
   "source": [
    "df_random_raob.head()"
   ]
  },
  {
   "cell_type": "code",
   "execution_count": 206,
   "id": "7cd91188-cb00-412b-9972-74b3abe288e0",
   "metadata": {},
   "outputs": [
    {
     "name": "stderr",
     "output_type": "stream",
     "text": [
      "/home/liangchenl/.conda/envs/jupyterlab-debugger/lib/python3.9/site-packages/IPython/core/interactiveshell.py:3169: DtypeWarning: Columns (4,9) have mixed types.Specify dtype option on import or set low_memory=False.\n",
      "  has_raised = await self.run_ast_nodes(code_ast.body, cell_name,\n"
     ]
    }
   ],
   "source": [
    "meta_path = Path('../small_subsets/Movies_and_TV/\\\n",
    "meta_Movies_and_TV_valid.csv')\n",
    "meta_Movies_and_TV = pd.read_csv(meta_path).iloc[:, 1:]\n",
    "ap_Movies_and_TV = meta_Movies_and_TV[['asin', 'path']]"
   ]
  },
  {
   "cell_type": "code",
   "execution_count": 209,
   "id": "94123989-afb4-419f-932e-78d9223901b8",
   "metadata": {},
   "outputs": [
    {
     "data": {
      "text/plain": [
       "2981808"
      ]
     },
     "execution_count": 62,
     "metadata": {},
     "output_type": "execute_result"
    }
   ],
   "source": [
    "len(df_random_raob)"
   ]
  },
  {
   "cell_type": "code",
   "execution_count": 212,
   "id": "741d63e7-fdc8-4020-bf69-ec3ca12c3bea",
   "metadata": {},
   "outputs": [],
   "source": [
    "df_random_raobp = df_random_raob.\\\n",
    "merge(ap_Movies_and_TV, how='left', on='asin')"
   ]
  },
  {
   "cell_type": "code",
   "execution_count": 272,
   "id": "92425375-e305-42f4-91e5-18b15cbed68e",
   "metadata": {},
   "outputs": [],
   "source": [
    "df_random_raobp_dropna = df_random_raobp[df_random_raobp['path'].notna()]"
   ]
  },
  {
   "cell_type": "code",
   "execution_count": 281,
   "id": "4ceaaa4f-bcd0-48a6-822d-af5887727483",
   "metadata": {},
   "outputs": [
    {
     "data": {
      "text/plain": [
       "2925234"
      ]
     },
     "execution_count": 86,
     "metadata": {},
     "output_type": "execute_result"
    }
   ],
   "source": [
    "len(df_random_raobp_dropna)"
   ]
  },
  {
   "cell_type": "code",
   "execution_count": 284,
   "id": "be447bc0-9dcb-4e03-a125-6f4c918bb8ba",
   "metadata": {},
   "outputs": [
    {
     "data": {
      "text/html": [
       "<div>\n",
       "<style scoped>\n",
       "    .dataframe tbody tr th:only-of-type {\n",
       "        vertical-align: middle;\n",
       "    }\n",
       "\n",
       "    .dataframe tbody tr th {\n",
       "        vertical-align: top;\n",
       "    }\n",
       "\n",
       "    .dataframe thead th {\n",
       "        text-align: right;\n",
       "    }\n",
       "</style>\n",
       "<table border=\"1\" class=\"dataframe\">\n",
       "  <thead>\n",
       "    <tr style=\"text-align: right;\">\n",
       "      <th></th>\n",
       "      <th>reviewerID</th>\n",
       "      <th>asin</th>\n",
       "      <th>overall</th>\n",
       "      <th>Binary_rating</th>\n",
       "      <th>path</th>\n",
       "    </tr>\n",
       "  </thead>\n",
       "  <tbody>\n",
       "    <tr>\n",
       "      <th>0</th>\n",
       "      <td>AQ9KPZLITYP3M</td>\n",
       "      <td>B000M9BPGM</td>\n",
       "      <td>1</td>\n",
       "      <td>False</td>\n",
       "      <td>../small_subsets/Movies_and_TV/img/B000M9BPGM.jpg</td>\n",
       "    </tr>\n",
       "    <tr>\n",
       "      <th>1</th>\n",
       "      <td>A3I1VYV6NN83WR</td>\n",
       "      <td>B00006IUFT</td>\n",
       "      <td>0</td>\n",
       "      <td>False</td>\n",
       "      <td>../small_subsets/Movies_and_TV/img/B00006IUFT.jpg</td>\n",
       "    </tr>\n",
       "    <tr>\n",
       "      <th>2</th>\n",
       "      <td>A81TG8ZBUFAK4</td>\n",
       "      <td>630196019X</td>\n",
       "      <td>0</td>\n",
       "      <td>False</td>\n",
       "      <td>../small_subsets/Movies_and_TV/img/630196019X.jpg</td>\n",
       "    </tr>\n",
       "    <tr>\n",
       "      <th>3</th>\n",
       "      <td>A2DDKFU4NDJ15K</td>\n",
       "      <td>B00005TNEY</td>\n",
       "      <td>0</td>\n",
       "      <td>False</td>\n",
       "      <td>../small_subsets/Movies_and_TV/img/B00005TNEY.jpg</td>\n",
       "    </tr>\n",
       "    <tr>\n",
       "      <th>4</th>\n",
       "      <td>A6J7UPYUI96XO</td>\n",
       "      <td>B001FQLMTQ</td>\n",
       "      <td>3</td>\n",
       "      <td>True</td>\n",
       "      <td>../small_subsets/Movies_and_TV/img/B001FQLMTQ.jpg</td>\n",
       "    </tr>\n",
       "  </tbody>\n",
       "</table>\n",
       "</div>"
      ],
      "text/plain": [
       "       reviewerID        asin overall  Binary_rating  \\\n",
       "0   AQ9KPZLITYP3M  B000M9BPGM       1          False   \n",
       "1  A3I1VYV6NN83WR  B00006IUFT       0          False   \n",
       "2   A81TG8ZBUFAK4  630196019X       0          False   \n",
       "3  A2DDKFU4NDJ15K  B00005TNEY       0          False   \n",
       "4   A6J7UPYUI96XO  B001FQLMTQ       3           True   \n",
       "\n",
       "                                                path  \n",
       "0  ../small_subsets/Movies_and_TV/img/B000M9BPGM.jpg  \n",
       "1  ../small_subsets/Movies_and_TV/img/B00006IUFT.jpg  \n",
       "2  ../small_subsets/Movies_and_TV/img/630196019X.jpg  \n",
       "3  ../small_subsets/Movies_and_TV/img/B00005TNEY.jpg  \n",
       "4  ../small_subsets/Movies_and_TV/img/B001FQLMTQ.jpg  "
      ]
     },
     "execution_count": 87,
     "metadata": {},
     "output_type": "execute_result"
    }
   ],
   "source": [
    "df_random_raobp_dropna.head()"
   ]
  },
  {
   "cell_type": "code",
   "execution_count": 287,
   "id": "c063179d-3d4e-418f-afe2-f6a1c3d4f766",
   "metadata": {},
   "outputs": [],
   "source": [
    "val_ratio = 0.1\n",
    "test_ratio = 0.1"
   ]
  },
  {
   "cell_type": "code",
   "execution_count": 290,
   "id": "09448895-ca4a-4a25-a4c4-48ae6aa970aa",
   "metadata": {},
   "outputs": [],
   "source": [
    "if hasattr(df_random_raobp_dropna, 'shape'):\n",
    "    val_split_at = int(df_random_raobp_dropna.shape[0] * (1. - val_ratio-test_ratio))\n",
    "    test_split_at = int(df_random_raobp_dropna.shape[0] * (1. - test_ratio))\n",
    "else:\n",
    "    val_split_at = int(len(df_random_raobp_dropna) * (1. - val_ratio-test_ratio))\n",
    "    test_split_at = int(len(df_random_raobp_dropna) * (1. - test_ratio))"
   ]
  },
  {
   "cell_type": "code",
   "execution_count": 293,
   "id": "8b2ceb1d-5db2-4514-84b6-ff7dd0f57887",
   "metadata": {},
   "outputs": [],
   "source": [
    "df_random_raobp_train = df_random_raobp_dropna[:val_split_at]\n",
    "df_random_raobp_val = df_random_raobp_dropna[val_split_at:test_split_at]\n",
    "df_random_raobp_test = df_random_raobp_dropna[test_split_at:]"
   ]
  },
  {
   "cell_type": "code",
   "execution_count": 296,
   "id": "65701f04-b80c-4a56-b08c-f3d9c3ea57f9",
   "metadata": {},
   "outputs": [
    {
     "data": {
      "text/html": [
       "<div>\n",
       "<style scoped>\n",
       "    .dataframe tbody tr th:only-of-type {\n",
       "        vertical-align: middle;\n",
       "    }\n",
       "\n",
       "    .dataframe tbody tr th {\n",
       "        vertical-align: top;\n",
       "    }\n",
       "\n",
       "    .dataframe thead th {\n",
       "        text-align: right;\n",
       "    }\n",
       "</style>\n",
       "<table border=\"1\" class=\"dataframe\">\n",
       "  <thead>\n",
       "    <tr style=\"text-align: right;\">\n",
       "      <th></th>\n",
       "      <th>reviewerID</th>\n",
       "      <th>asin</th>\n",
       "      <th>overall</th>\n",
       "      <th>Binary_rating</th>\n",
       "      <th>path</th>\n",
       "    </tr>\n",
       "  </thead>\n",
       "  <tbody>\n",
       "    <tr>\n",
       "      <th>0</th>\n",
       "      <td>AQ9KPZLITYP3M</td>\n",
       "      <td>B000M9BPGM</td>\n",
       "      <td>1</td>\n",
       "      <td>False</td>\n",
       "      <td>../small_subsets/Movies_and_TV/img/B000M9BPGM.jpg</td>\n",
       "    </tr>\n",
       "    <tr>\n",
       "      <th>1</th>\n",
       "      <td>A3I1VYV6NN83WR</td>\n",
       "      <td>B00006IUFT</td>\n",
       "      <td>0</td>\n",
       "      <td>False</td>\n",
       "      <td>../small_subsets/Movies_and_TV/img/B00006IUFT.jpg</td>\n",
       "    </tr>\n",
       "    <tr>\n",
       "      <th>2</th>\n",
       "      <td>A81TG8ZBUFAK4</td>\n",
       "      <td>630196019X</td>\n",
       "      <td>0</td>\n",
       "      <td>False</td>\n",
       "      <td>../small_subsets/Movies_and_TV/img/630196019X.jpg</td>\n",
       "    </tr>\n",
       "    <tr>\n",
       "      <th>3</th>\n",
       "      <td>A2DDKFU4NDJ15K</td>\n",
       "      <td>B00005TNEY</td>\n",
       "      <td>0</td>\n",
       "      <td>False</td>\n",
       "      <td>../small_subsets/Movies_and_TV/img/B00005TNEY.jpg</td>\n",
       "    </tr>\n",
       "    <tr>\n",
       "      <th>4</th>\n",
       "      <td>A6J7UPYUI96XO</td>\n",
       "      <td>B001FQLMTQ</td>\n",
       "      <td>3</td>\n",
       "      <td>True</td>\n",
       "      <td>../small_subsets/Movies_and_TV/img/B001FQLMTQ.jpg</td>\n",
       "    </tr>\n",
       "  </tbody>\n",
       "</table>\n",
       "</div>"
      ],
      "text/plain": [
       "       reviewerID        asin overall  Binary_rating  \\\n",
       "0   AQ9KPZLITYP3M  B000M9BPGM       1          False   \n",
       "1  A3I1VYV6NN83WR  B00006IUFT       0          False   \n",
       "2   A81TG8ZBUFAK4  630196019X       0          False   \n",
       "3  A2DDKFU4NDJ15K  B00005TNEY       0          False   \n",
       "4   A6J7UPYUI96XO  B001FQLMTQ       3           True   \n",
       "\n",
       "                                                path  \n",
       "0  ../small_subsets/Movies_and_TV/img/B000M9BPGM.jpg  \n",
       "1  ../small_subsets/Movies_and_TV/img/B00006IUFT.jpg  \n",
       "2  ../small_subsets/Movies_and_TV/img/630196019X.jpg  \n",
       "3  ../small_subsets/Movies_and_TV/img/B00005TNEY.jpg  \n",
       "4  ../small_subsets/Movies_and_TV/img/B001FQLMTQ.jpg  "
      ]
     },
     "execution_count": 91,
     "metadata": {},
     "output_type": "execute_result"
    }
   ],
   "source": [
    "df_random_raobp_train.head()"
   ]
  },
  {
   "cell_type": "code",
   "execution_count": 299,
   "id": "fac50615-45cc-4b64-881f-4ede4ebe42b9",
   "metadata": {},
   "outputs": [],
   "source": [
    "df_random_raobp_train.to_csv(csvpath_noname/'raobp_Movies_and_TV_5_random_08_train_binary_balance.csv')\n",
    "# save the 0.8 of rID asin and overall train for training and fair compare"
   ]
  },
  {
   "cell_type": "code",
   "execution_count": 302,
   "id": "0ecf670f-a3c6-4978-8201-d1e4e9443b1f",
   "metadata": {},
   "outputs": [],
   "source": [
    "df_random_raobp_val.to_csv(csvpath_noname/'raobp_Movies_and_TV_5_random_01_val_binary_balance.csv') \n",
    "# save the 0.1 of rID asin and overall val for validation and fair compare"
   ]
  },
  {
   "cell_type": "code",
   "execution_count": 303,
   "id": "ad35b0ba-9ea0-4981-ba1d-538d0ea4cda0",
   "metadata": {},
   "outputs": [],
   "source": [
    "df_random_raobp_test.to_csv(csvpath_noname/'raobp_Movies_and_TV_5_random_01_test_binary_balance.csv') \n",
    "# save the 0.1 of rID asin and overall test for test and fair compare"
   ]
  },
  {
   "cell_type": "code",
   "execution_count": null,
   "id": "d10aa834-65cd-48a5-981e-9e56652faa25",
   "metadata": {},
   "outputs": [],
   "source": []
  }
 ],
 "metadata": {
  "kernelspec": {
   "display_name": "Python 3.9 (XPython)",
   "language": "python",
   "name": "xpython"
  },
  "language_info": {
   "file_extension": ".py",
   "mimetype": "text/x-python",
   "name": "python",
   "version": "3.9.2"
  }
 },
 "nbformat": 4,
 "nbformat_minor": 5
}
