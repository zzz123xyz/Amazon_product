{
 "cells": [
  {
   "cell_type": "code",
   "execution_count": null,
   "id": "a42f68c4-91de-4382-94a3-ea6ae2b07b27",
   "metadata": {},
   "outputs": [],
   "source": [
    "import pandas as pd\n",
    "import sys\n",
    "from pathlib import Path\n",
    "import numpy as np\n",
    "from itertools import product\n",
    "from tqdm import tqdm\n",
    "# sys.path.append('/data/gpfs/projects/punim1395/workspace/DeepCTR-Torch')\n",
    "# from ..deepctr_torch.layers.utils import slice_arrays\n",
    "!pwd"
   ]
  },
  {
   "cell_type": "code",
   "execution_count": 333,
   "id": "d3b3e13a-72dc-4096-a73b-33b1539423ef",
   "metadata": {},
   "outputs": [
    {
     "name": "stderr",
     "output_type": "stream",
     "text": [
      "/home/liangchenl/.conda/envs/jupyterlab-debugger/lib/python3.9/site-packages/IPython/core/interactiveshell.py:3169: DtypeWarning: Columns (4,9) have mixed types.Specify dtype option on import or set low_memory=False.\n",
      "  has_raised = await self.run_ast_nodes(code_ast.body, cell_name,\n"
     ]
    }
   ],
   "source": [
    "meta_path = Path('../small_subsets/Movies_and_TV/\\\n",
    "meta_Movies_and_TV_valid.csv')\n",
    "meta_Movies_and_TV = pd.read_csv(meta_path).iloc[:, 1:]"
   ]
  },
  {
   "cell_type": "code",
   "execution_count": null,
   "id": "da9b7775-1d75-4a24-8a8a-e7e6002eeb72",
   "metadata": {},
   "outputs": [],
   "source": [
    "meta_Movies_and_TV.head()"
   ]
  },
  {
   "cell_type": "code",
   "execution_count": null,
   "id": "d6f3cb0b-d863-488c-a041-5a792f94b4f8",
   "metadata": {},
   "outputs": [],
   "source": [
    "rating_path = Path('../small_subsets/Movies_and_TV/\\\n",
    "ratings_Movies_and_TV.csv')\n",
    "ratings = pd.read_csv(rating_path, header=None, names=['reviewerID', 'asin', 'overall', 'unixReviewTime'])"
   ]
  },
  {
   "cell_type": "code",
   "execution_count": null,
   "id": "78264ddb-a993-4786-815b-e090748e77ef",
   "metadata": {},
   "outputs": [],
   "source": [
    "ratings.tail()"
   ]
  },
  {
   "cell_type": "code",
   "execution_count": null,
   "id": "11469c29-1dfd-43e6-b7ef-a7f5e590c857",
   "metadata": {},
   "outputs": [],
   "source": [
    "ratings_meta_Movies_and_TV = ratings.merge(meta_Movies_and_TV, how='left', on='asin')"
   ]
  },
  {
   "cell_type": "code",
   "execution_count": null,
   "id": "a200d0a0-fa5e-4343-9e5f-9f7fc9b02bd9",
   "metadata": {},
   "outputs": [],
   "source": [
    "ratings_meta_Movies_and_TV.head()"
   ]
  },
  {
   "cell_type": "code",
   "execution_count": null,
   "id": "337f8c40-9992-43c0-a376-7ae2276e282f",
   "metadata": {},
   "outputs": [],
   "source": [
    "ratings_meta_Movies_and_TV_valid= ratings_meta_Movies_and_TV.dropna(subset=['path'])"
   ]
  },
  {
   "cell_type": "code",
   "execution_count": null,
   "id": "c05a8418-600a-4b94-beb9-91f878726317",
   "metadata": {},
   "outputs": [],
   "source": [
    "ratings_meta_Movies_and_TV_valid.tail()"
   ]
  },
  {
   "cell_type": "markdown",
   "id": "78656ad0-1012-4a96-a740-d7a20d040433",
   "metadata": {},
   "source": [
    "The output csv for the ratings_meta_Movies_and_TV_valid"
   ]
  },
  {
   "cell_type": "code",
   "execution_count": 5,
   "id": "99aa8bf2-c14f-42af-b622-88ddc59e6423",
   "metadata": {},
   "outputs": [],
   "source": [
    "outpath = Path('../small_subsets/ratings_meta_Movies_and_TV_valid.csv/ratings_meta_Movies_and_TV_valid.csv')"
   ]
  },
  {
   "cell_type": "code",
   "execution_count": null,
   "id": "60fd16c4-37e3-43e7-8702-65258fdfb566",
   "metadata": {},
   "outputs": [],
   "source": [
    "ratings_meta_Movies_and_TV_valid.to_csv(outpath)"
   ]
  },
  {
   "cell_type": "markdown",
   "id": "456f53db-5cc3-421c-949f-6a3305e61106",
   "metadata": {},
   "source": [
    "The output csv for the ratings_meta_Movies_and_TV_valid with valid price"
   ]
  },
  {
   "cell_type": "code",
   "execution_count": 9,
   "id": "668db4dd-9d2c-4b11-8059-9a963325e2c3",
   "metadata": {
    "tags": []
   },
   "outputs": [],
   "source": [
    "outpath = Path('../small_subsets/Movies_and_TV/ratings_meta_Movies_and_TV_valid_w_price.csv')\n",
    "outpath_noname = outpath.parent"
   ]
  },
  {
   "cell_type": "code",
   "execution_count": null,
   "id": "1393fe36-7dc2-42c9-8c57-19a353b52546",
   "metadata": {},
   "outputs": [],
   "source": [
    "ratings_meta_Movies_and_TV_valid_w_price = ratings_meta_Movies_and_TV_valid.dropna(subset=['price'])"
   ]
  },
  {
   "cell_type": "code",
   "execution_count": null,
   "id": "0d98861e-68be-4cd2-a550-507ff2712d73",
   "metadata": {},
   "outputs": [],
   "source": [
    "ratings_meta_Movies_and_TV_valid_w_price.head()"
   ]
  },
  {
   "cell_type": "code",
   "execution_count": null,
   "id": "95378653-7c02-44a0-a5fa-ee0788ace65b",
   "metadata": {},
   "outputs": [],
   "source": [
    "ratings_meta_Movies_and_TV_valid_w_price.to_csv(outpath)"
   ]
  },
  {
   "cell_type": "code",
   "execution_count": null,
   "id": "e28752ae-ca4b-42d3-bd3e-ee1327c770fb",
   "metadata": {},
   "outputs": [],
   "source": [
    "ratings_meta_Movies_and_TV_valid_random = ratings_meta_Movies_and_TV_valid.sample(frac=1)"
   ]
  },
  {
   "cell_type": "code",
   "execution_count": null,
   "id": "af51fd38-31eb-484b-9583-7672408c6207",
   "metadata": {},
   "outputs": [],
   "source": [
    "val_ratio = 0.1\n",
    "test_ratio = 0.1"
   ]
  },
  {
   "cell_type": "code",
   "execution_count": null,
   "id": "463ee08b-248c-40d0-a0a4-90c359be8e8f",
   "metadata": {},
   "outputs": [],
   "source": [
    "table = ratings_meta_Movies_and_TV_valid_random"
   ]
  },
  {
   "cell_type": "code",
   "execution_count": null,
   "id": "9051b666-de36-4a2c-b6de-58375e31ccb1",
   "metadata": {},
   "outputs": [],
   "source": [
    "len(table)"
   ]
  },
  {
   "cell_type": "code",
   "execution_count": null,
   "id": "f4e00877-af37-4283-ab2a-30f034b8f03d",
   "metadata": {},
   "outputs": [],
   "source": [
    "if hasattr(table, 'shape'):\n",
    "    val_split_at = int(table.shape[0] * (1. - val_ratio-test_ratio))\n",
    "    test_split_at = int(table.shape[0] * (1. - test_ratio))\n",
    "else:\n",
    "    val_split_at = int(len(table) * (1. - val_ratio-test_ratio))\n",
    "    test_split_at = int(len(table) * (1. - test_ratio))"
   ]
  },
  {
   "cell_type": "code",
   "execution_count": null,
   "id": "ee28c666-971a-407b-921a-f864f1a95ee4",
   "metadata": {},
   "outputs": [],
   "source": [
    "table_train = table[:val_split_at]\n",
    "table_val = table[val_split_at:test_split_at]\n",
    "table_test = table[test_split_at:]"
   ]
  },
  {
   "cell_type": "code",
   "execution_count": null,
   "id": "802c1f0a-62eb-4e98-9a50-3910c4b5a54e",
   "metadata": {},
   "outputs": [],
   "source": [
    "table_val = table[val_split_at:test_split_at]"
   ]
  },
  {
   "cell_type": "code",
   "execution_count": null,
   "id": "217de541-48ff-431b-9959-eff7a9a1a381",
   "metadata": {},
   "outputs": [],
   "source": [
    "len(table_train)"
   ]
  },
  {
   "cell_type": "code",
   "execution_count": null,
   "id": "e93cfee3-e7c6-4a46-9c21-e403479c311e",
   "metadata": {},
   "outputs": [],
   "source": [
    "len(table_val)"
   ]
  },
  {
   "cell_type": "code",
   "execution_count": null,
   "id": "74fa47c1-9fff-4f61-8e2d-84ca04b31df7",
   "metadata": {},
   "outputs": [],
   "source": [
    "len(table_test)"
   ]
  },
  {
   "cell_type": "code",
   "execution_count": null,
   "id": "d8dfa6db-2824-4fa3-b9ba-e001fbf80a84",
   "metadata": {},
   "outputs": [],
   "source": [
    "table_train.to_csv(outpath_noname/'ratings_meta_Movies_and_TV_valid_random_08_train.csv') # save the 0.8 of ratings_movies_poster_users_train for training and fair compare"
   ]
  },
  {
   "cell_type": "code",
   "execution_count": null,
   "id": "a3c625da-03c7-4f1a-9a75-f90dc05870b6",
   "metadata": {},
   "outputs": [],
   "source": [
    "table_val.to_csv(outpath_noname/'ratings_meta_Movies_and_TV_valid_random_01_val.csv') # save the 0.1 of ratings_movies_poster_users_train for validation and fair compare"
   ]
  },
  {
   "cell_type": "code",
   "execution_count": null,
   "id": "85ce1503-2fa7-422d-ac87-0b13e01403cc",
   "metadata": {},
   "outputs": [],
   "source": [
    "table_test.to_csv(outpath_noname/'ratings_meta_Movies_and_TV_valid_random_01_test.csv') # save the 0.1 of ratings_movies_poster_users_train for validation and fair compare"
   ]
  },
  {
   "cell_type": "code",
   "execution_count": null,
   "id": "e03fb72e-2683-41bd-b99b-4b94d50c458d",
   "metadata": {},
   "outputs": [],
   "source": [
    "outpath = Path('../small_subsets/Movies_and_TV/ratings_meta_Movies_and_TV_valid_w_price.csv')\n",
    "outpath_noname = outpath.parent"
   ]
  },
  {
   "cell_type": "code",
   "execution_count": null,
   "id": "9b25e6cc-e333-4e89-8c6c-103d5d918176",
   "metadata": {},
   "outputs": [],
   "source": [
    "table_train = pd.read_csv(outpath_noname/'ratings_meta_Movies_and_TV_valid_random_08_train.csv')"
   ]
  },
  {
   "cell_type": "code",
   "execution_count": null,
   "id": "622ff83f-e843-4225-ad13-937140c63e35",
   "metadata": {},
   "outputs": [],
   "source": [
    "table_val = pd.read_csv(outpath_noname/'ratings_meta_Movies_and_TV_valid_random_01_val.csv') "
   ]
  },
  {
   "cell_type": "code",
   "execution_count": null,
   "id": "58cb8ef5-1ddf-4bce-9c44-48d30f35c923",
   "metadata": {},
   "outputs": [],
   "source": [
    "table_test = pd.read_csv(outpath_noname/'ratings_meta_Movies_and_TV_valid_random_01_test.csv')"
   ]
  },
  {
   "cell_type": "code",
   "execution_count": null,
   "id": "fcb0115e-d93c-452a-a006-61afa3fd0567",
   "metadata": {},
   "outputs": [],
   "source": [
    "table_all = pd.concat([table_train, table_val, table_test])"
   ]
  },
  {
   "cell_type": "code",
   "execution_count": 21,
   "id": "aae1fc3a-0fbe-4d12-835a-13a65b00eb8e",
   "metadata": {
    "tags": []
   },
   "outputs": [
    {
     "data": {
      "text/plain": [
       "3953154"
      ]
     },
     "execution_count": 14,
     "metadata": {},
     "output_type": "execute_result"
    }
   ],
   "source": [
    "num_pos = len(table_all[table_all['Binary_rating'] == True]); num_pos"
   ]
  },
  {
   "cell_type": "code",
   "execution_count": 22,
   "id": "e71207de-b66f-4a7f-9fe0-2dfe0dfef31b",
   "metadata": {
    "tags": []
   },
   "outputs": [
    {
     "data": {
      "text/plain": [
       "559052"
      ]
     },
     "execution_count": 15,
     "metadata": {},
     "output_type": "execute_result"
    }
   ],
   "source": [
    "num_neg = len(table_all[table_all['Binary_rating'] == False]); num_neg"
   ]
  },
  {
   "cell_type": "code",
   "execution_count": 23,
   "id": "389cf6a4-b456-4525-b978-3b52cae0b1f8",
   "metadata": {
    "tags": []
   },
   "outputs": [],
   "source": [
    "num_diff = num_pos - num_neg"
   ]
  },
  {
   "cell_type": "code",
   "execution_count": 24,
   "id": "00153b4d-8183-4371-a9e0-9bb61e18151f",
   "metadata": {},
   "outputs": [
    {
     "data": {
      "text/plain": [
       "3394102"
      ]
     },
     "execution_count": 17,
     "metadata": {},
     "output_type": "execute_result"
    }
   ],
   "source": [
    "num_diff"
   ]
  },
  {
   "cell_type": "code",
   "execution_count": 26,
   "id": "3c29c4d1-bddb-4519-a32e-3c5ac00450d0",
   "metadata": {
    "tags": []
   },
   "outputs": [],
   "source": [
    "rID_all = np.unique(table_all['reviewerID'])\n",
    "asin_all = np.unique(table_all['asin'])"
   ]
  },
  {
   "cell_type": "code",
   "execution_count": 130,
   "id": "cb9f8e19-4545-4087-9a1e-77b3c23076cc",
   "metadata": {},
   "outputs": [],
   "source": [
    "num_diff = num_pos - num_neg\n",
    "num_table_all_balance = len(table_all)+num_diff\n",
    "ra_all = np.column_stack((np.array(table_all['reviewerID']),\n",
    "                          np.array(table_all['asin'])))\n",
    "ra_all = ra_all.astype(str)\n",
    "ra_all_balance = ra_all\n",
    "while True:\n",
    "    rID_extra_index = np.random.choice(len(rID_all), num_diff)\n",
    "    rID_extra = rID_all[rID_extra_index]\n",
    "    rID_extra = rID_extra.astype(str)\n",
    "    asin_extra_index = np.random.choice(len(asin_all), num_diff)\n",
    "    asin_extra = asin_all[asin_extra_index]\n",
    "    asin_extra = asin_extra.astype(str)\n",
    "    ra_extra_index = np.column_stack((rID_extra_index, asin_extra_index))\n",
    "    ra_extra = np.column_stack((rID_extra, asin_extra))\n",
    "    ra_all_balance = np.concatenate((ra_all_balance, ra_extra))\n",
    "    ra_all_balance, ra_index = np.unique(ra_all_balance, axis=0, return_index=True)\n",
    "    ra_all_balance = ra_all_balance[np.argsort(ra_index)]\n",
    "    if len(ra_all_balance) < num_table_all_balance:\n",
    "        num_diff = num_table_all_balance - len(ra_all_balance)\n",
    "    else:\n",
    "        break"
   ]
  },
  {
   "cell_type": "code",
   "execution_count": 132,
   "id": "d0a117b2-c976-40f3-8a57-22d804545aa2",
   "metadata": {},
   "outputs": [],
   "source": [
    "sample_extra = np.array([0.]*(num_pos - num_neg))\n",
    "overall_col = np.array(table_all['overall'])\n",
    "overall_col = np.concatenate([overall_col, sample_extra])\n",
    "overall_col = overall_col.astype('int')"
   ]
  },
  {
   "cell_type": "code",
   "execution_count": 158,
   "id": "8deec2c5-1adb-4270-b43f-93d8f2eb954c",
   "metadata": {},
   "outputs": [],
   "source": [
    "rao_all_balance = ra_all_balance"
   ]
  },
  {
   "cell_type": "code",
   "execution_count": 160,
   "id": "3df630fe-9433-41df-816a-80ceea30d252",
   "metadata": {},
   "outputs": [],
   "source": [
    "rao_all_balance = np.column_stack((rao_all_balance, overall_col.astype(np.int8)))"
   ]
  },
  {
   "cell_type": "code",
   "execution_count": 171,
   "id": "f5286fb9-a09a-43c0-b533-062e366936ae",
   "metadata": {},
   "outputs": [],
   "source": [
    "df = pd.DataFrame(rao_all_balance, columns = ['reviewerID', 'asin', 'overall'])"
   ]
  },
  {
   "cell_type": "code",
   "execution_count": 182,
   "id": "ea1a74a4-a53d-4f32-9ffe-05475dc84880",
   "metadata": {},
   "outputs": [],
   "source": [
    "df['Binary_rating'] = df['overall']c.astype(int)>2"
   ]
  },
  {
   "cell_type": "code",
   "execution_count": 192,
   "id": "612688e6-825a-4887-8a14-5650a3aa08a7",
   "metadata": {},
   "outputs": [],
   "source": [
    "df.to_csv(rao_all_balance_path)"
   ]
  },
  {
   "cell_type": "code",
   "execution_count": 182,
   "id": "e3cdd8d7-5074-4bc9-a1fd-6de0b23aab7b",
   "metadata": {},
   "outputs": [],
   "source": [
    "df['Binary_rating'] = df['overall'].astype(int)>2"
   ]
  },
  {
   "cell_type": "code",
   "execution_count": null,
   "id": "d4e56681-8e05-4b56-8e1d-1f424509d12e",
   "metadata": {},
   "outputs": [],
   "source": [
    "df_random_raob = df.sample(frac=1) \n",
    "# raob means rID asin overall Binary_rating"
   ]
  },
  {
   "cell_type": "code",
   "execution_count": null,
   "id": "b124378d-9410-4097-9864-4f9b85752a44",
   "metadata": {},
   "outputs": [],
   "source": [
    "meta_path = Path('../small_subsets/Movies_and_TV/\\\n",
    "meta_Movies_and_TV_valid.csv')\n",
    "meta_Movies_and_TV = pd.read_csv(meta_path).iloc[:, 1:]\n",
    "ap_Movies_and_TV = meta_Movies_and_TV[['asin', 'path']]"
   ]
  },
  {
   "cell_type": "code",
   "execution_count": null,
   "id": "e2227cba-131c-45ea-93ce-8c90b720809e",
   "metadata": {},
   "outputs": [],
   "source": [
    "df_random = pd.merge(df_random_raob, ap_Movies_and_TV, how='left', on='asin')"
   ]
  },
  {
   "cell_type": "code",
   "execution_count": null,
   "id": "276c23b1-ea18-4bca-aa2c-9e3e0dc41c53",
   "metadata": {},
   "outputs": [],
   "source": [
    "val_ratio = 0.1\n",
    "test_ratio = 0.1"
   ]
  },
  {
   "cell_type": "code",
   "execution_count": null,
   "id": "ead43c43-7e1b-4832-8670-5212b5d87507",
   "metadata": {},
   "outputs": [],
   "source": [
    "if hasattr(df_random, 'shape'):\n",
    "    val_split_at = int(df_random.shape[0] * (1. - val_ratio-test_ratio))\n",
    "    test_split_at = int(df_random.shape[0] * (1. - test_ratio))\n",
    "else:\n",
    "    val_split_at = int(len(df_random) * (1. - val_ratio-test_ratio))\n",
    "    test_split_at = int(len(df_random) * (1. - test_ratio))"
   ]
  },
  {
   "cell_type": "code",
   "execution_count": null,
   "id": "4ac65eed-0a59-4abe-8443-81dcd031306e",
   "metadata": {},
   "outputs": [],
   "source": [
    "df_random_train = df_random[:val_split_at]\n",
    "df_random_val = df_random[val_split_at:test_split_at]\n",
    "df_random_test = df_random[test_split_at:]"
   ]
  },
  {
   "cell_type": "code",
   "execution_count": null,
   "id": "ff368ab5-776d-4b3d-a7ef-12480d82382c",
   "metadata": {},
   "outputs": [],
   "source": [
    "df_random_train.to_csv(outpath_noname/'rao_Movies_and_TV_random_08_train_binary_balance.csv')\n",
    "# save the 0.8 of rID asin and overall train for training and fair compare"
   ]
  },
  {
   "cell_type": "code",
   "execution_count": null,
   "id": "3d532cf0-a9f6-4062-a39d-d893192a8059",
   "metadata": {},
   "outputs": [],
   "source": [
    "df_random_val.to_csv(outpath_noname/'rao_Movies_and_TV_random_01_val_binary_balance.csv') \n",
    "# save the 0.1 of rID asin and overall val for validation and fair compare"
   ]
  },
  {
   "cell_type": "code",
   "execution_count": null,
   "id": "8f8c8f7e-e4a8-4252-9b62-fc5ec6edc6d7",
   "metadata": {},
   "outputs": [],
   "source": [
    "df_random_test.to_csv(outpath_noname/'rao_Movies_and_TV_random_01_test_binary_balance.csv') \n",
    "# save the 0.1 of rID asin and overall test for test and fair compare"
   ]
  }
 ],
 "metadata": {
  "kernelspec": {
   "display_name": "Python 3.9 (XPython)",
   "language": "python",
   "name": "xpython"
  },
  "language_info": {
   "file_extension": ".py",
   "mimetype": "text/x-python",
   "name": "python",
   "version": "3.9.2"
  }
 },
 "nbformat": 4,
 "nbformat_minor": 5
}
