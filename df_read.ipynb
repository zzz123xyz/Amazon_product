{
 "cells": [
  {
   "cell_type": "code",
   "execution_count": 1,
   "metadata": {},
   "outputs": [],
   "source": [
    "import pandas as pd\n",
    "import gzip"
   ]
  },
  {
   "cell_type": "code",
   "execution_count": 2,
   "metadata": {},
   "outputs": [],
   "source": [
    "def add(a,b):\n",
    "    res = a+b\n",
    "    return res"
   ]
  },
  {
   "cell_type": "code",
   "execution_count": 3,
   "metadata": {},
   "outputs": [
    {
     "data": {
      "text/plain": [
       "4"
      ]
     },
     "execution_count": 3,
     "metadata": {},
     "output_type": "execute_result"
    }
   ],
   "source": [
    "res = add(1,2)\n",
    "res += 1\n",
    "res"
   ]
  },
  {
   "cell_type": "code",
   "execution_count": 4,
   "metadata": {},
   "outputs": [],
   "source": [
    "def parse(path):\n",
    "  g = gzip.open(path, 'rb')\n",
    "  for l in g:\n",
    "    yield eval(l)"
   ]
  },
  {
   "cell_type": "code",
   "execution_count": 5,
   "metadata": {},
   "outputs": [],
   "source": [
    "def getDF(path):\n",
    "  i = 0\n",
    "  df = {}\n",
    "  for d in parse(path):\n",
    "    df[i] = d\n",
    "    i += 1\n",
    "#     if i > 100:\n",
    "#         break\n",
    "  return pd.DataFrame.from_dict(df, orient='index')"
   ]
  },
  {
   "cell_type": "code",
   "execution_count": 9,
   "metadata": {},
   "outputs": [],
   "source": [
    "# df = getDF('../metadata.json.gz')\n",
    "df = getDF('../kcore_5.json.gz')"
   ]
  },
  {
   "cell_type": "code",
   "execution_count": 11,
   "metadata": {},
   "outputs": [
    {
     "data": {
      "text/html": [
       "<div>\n",
       "<style scoped>\n",
       "    .dataframe tbody tr th:only-of-type {\n",
       "        vertical-align: middle;\n",
       "    }\n",
       "\n",
       "    .dataframe tbody tr th {\n",
       "        vertical-align: top;\n",
       "    }\n",
       "\n",
       "    .dataframe thead th {\n",
       "        text-align: right;\n",
       "    }\n",
       "</style>\n",
       "<table border=\"1\" class=\"dataframe\">\n",
       "  <thead>\n",
       "    <tr style=\"text-align: right;\">\n",
       "      <th></th>\n",
       "      <th>reviewerID</th>\n",
       "      <th>asin</th>\n",
       "      <th>reviewerName</th>\n",
       "      <th>helpful</th>\n",
       "      <th>reviewText</th>\n",
       "      <th>overall</th>\n",
       "      <th>summary</th>\n",
       "      <th>unixReviewTime</th>\n",
       "      <th>reviewTime</th>\n",
       "    </tr>\n",
       "  </thead>\n",
       "  <tbody>\n",
       "    <tr>\n",
       "      <th>96</th>\n",
       "      <td>A399R3BDSXRHKH</td>\n",
       "      <td>0000031887</td>\n",
       "      <td>Kim Marie Mackey</td>\n",
       "      <td>[0, 0]</td>\n",
       "      <td>Item was exactly what I was looking for.  Girl...</td>\n",
       "      <td>5.0</td>\n",
       "      <td>Perfect Tutu</td>\n",
       "      <td>1359504000</td>\n",
       "      <td>01 30, 2013</td>\n",
       "    </tr>\n",
       "    <tr>\n",
       "      <th>97</th>\n",
       "      <td>A1IJ4Z3204XZ6N</td>\n",
       "      <td>0000031887</td>\n",
       "      <td>KorinaNyree</td>\n",
       "      <td>[0, 0]</td>\n",
       "      <td>Absolutely love this tutu. Fit my little girl ...</td>\n",
       "      <td>5.0</td>\n",
       "      <td>Super Cute Tutu</td>\n",
       "      <td>1381276800</td>\n",
       "      <td>10 9, 2013</td>\n",
       "    </tr>\n",
       "    <tr>\n",
       "      <th>98</th>\n",
       "      <td>A13VT2F9H98P93</td>\n",
       "      <td>0000031887</td>\n",
       "      <td>KS Princess \"Elizabeth\"</td>\n",
       "      <td>[4, 6]</td>\n",
       "      <td>I was pleasantly suprised when the package arr...</td>\n",
       "      <td>5.0</td>\n",
       "      <td>Made for a Princess!</td>\n",
       "      <td>1354665600</td>\n",
       "      <td>12 5, 2012</td>\n",
       "    </tr>\n",
       "    <tr>\n",
       "      <th>99</th>\n",
       "      <td>A1GDPIHRKM6SRM</td>\n",
       "      <td>0000031887</td>\n",
       "      <td>lemontea</td>\n",
       "      <td>[0, 0]</td>\n",
       "      <td>I got this for my daughter who is now 2 years ...</td>\n",
       "      <td>5.0</td>\n",
       "      <td>Fits a 2.5 year-old</td>\n",
       "      <td>1354665600</td>\n",
       "      <td>12 5, 2012</td>\n",
       "    </tr>\n",
       "    <tr>\n",
       "      <th>100</th>\n",
       "      <td>A1Y5A0H9VMC5HI</td>\n",
       "      <td>0000031887</td>\n",
       "      <td>LGF</td>\n",
       "      <td>[0, 0]</td>\n",
       "      <td>We bought this for our 2 year old and she LOVE...</td>\n",
       "      <td>5.0</td>\n",
       "      <td>perfect - even for small 2 yr old</td>\n",
       "      <td>1357516800</td>\n",
       "      <td>01 7, 2013</td>\n",
       "    </tr>\n",
       "  </tbody>\n",
       "</table>\n",
       "</div>"
      ],
      "text/plain": [
       "         reviewerID        asin             reviewerName helpful  \\\n",
       "96   A399R3BDSXRHKH  0000031887         Kim Marie Mackey  [0, 0]   \n",
       "97   A1IJ4Z3204XZ6N  0000031887              KorinaNyree  [0, 0]   \n",
       "98   A13VT2F9H98P93  0000031887  KS Princess \"Elizabeth\"  [4, 6]   \n",
       "99   A1GDPIHRKM6SRM  0000031887                 lemontea  [0, 0]   \n",
       "100  A1Y5A0H9VMC5HI  0000031887                      LGF  [0, 0]   \n",
       "\n",
       "                                            reviewText  overall  \\\n",
       "96   Item was exactly what I was looking for.  Girl...      5.0   \n",
       "97   Absolutely love this tutu. Fit my little girl ...      5.0   \n",
       "98   I was pleasantly suprised when the package arr...      5.0   \n",
       "99   I got this for my daughter who is now 2 years ...      5.0   \n",
       "100  We bought this for our 2 year old and she LOVE...      5.0   \n",
       "\n",
       "                               summary  unixReviewTime   reviewTime  \n",
       "96                        Perfect Tutu      1359504000  01 30, 2013  \n",
       "97                     Super Cute Tutu      1381276800   10 9, 2013  \n",
       "98                Made for a Princess!      1354665600   12 5, 2012  \n",
       "99                 Fits a 2.5 year-old      1354665600   12 5, 2012  \n",
       "100  perfect - even for small 2 yr old      1357516800   01 7, 2013  "
      ]
     },
     "execution_count": 11,
     "metadata": {},
     "output_type": "execute_result"
    }
   ],
   "source": [
    "df.tail()"
   ]
  },
  {
   "cell_type": "code",
   "execution_count": null,
   "metadata": {},
   "outputs": [],
   "source": [
    "# df.to_csv('../metadata.csv')\n",
    "df.to_csv('../kcore_5.csv')"
   ]
  },
  {
   "cell_type": "code",
   "execution_count": 12,
   "metadata": {},
   "outputs": [],
   "source": [
    "# df = getDF('../metadata.json.gz')\n",
    "df = getDF('../reviews_Video_Games.json.gz')"
   ]
  },
  {
   "cell_type": "code",
   "execution_count": 13,
   "metadata": {},
   "outputs": [
    {
     "data": {
      "text/html": [
       "<div>\n",
       "<style scoped>\n",
       "    .dataframe tbody tr th:only-of-type {\n",
       "        vertical-align: middle;\n",
       "    }\n",
       "\n",
       "    .dataframe tbody tr th {\n",
       "        vertical-align: top;\n",
       "    }\n",
       "\n",
       "    .dataframe thead th {\n",
       "        text-align: right;\n",
       "    }\n",
       "</style>\n",
       "<table border=\"1\" class=\"dataframe\">\n",
       "  <thead>\n",
       "    <tr style=\"text-align: right;\">\n",
       "      <th></th>\n",
       "      <th>reviewerID</th>\n",
       "      <th>asin</th>\n",
       "      <th>reviewerName</th>\n",
       "      <th>helpful</th>\n",
       "      <th>reviewText</th>\n",
       "      <th>overall</th>\n",
       "      <th>summary</th>\n",
       "      <th>unixReviewTime</th>\n",
       "      <th>reviewTime</th>\n",
       "    </tr>\n",
       "  </thead>\n",
       "  <tbody>\n",
       "    <tr>\n",
       "      <th>96</th>\n",
       "      <td>A361M14PU2GUEG</td>\n",
       "      <td>0700099867</td>\n",
       "      <td>Angry Ryan \"Ryan A. Forrest\"</td>\n",
       "      <td>[2, 2]</td>\n",
       "      <td>I had Dirt 2 on Xbox 360 and it was an okay ga...</td>\n",
       "      <td>4.0</td>\n",
       "      <td>DIRT 3</td>\n",
       "      <td>1308009600</td>\n",
       "      <td>06 14, 2011</td>\n",
       "    </tr>\n",
       "    <tr>\n",
       "      <th>97</th>\n",
       "      <td>AW1X78QFLX7WL</td>\n",
       "      <td>0700099867</td>\n",
       "      <td>anne schwendiman</td>\n",
       "      <td>[0, 0]</td>\n",
       "      <td>Yeah, well, the interface on D2 is way more im...</td>\n",
       "      <td>5.0</td>\n",
       "      <td>Give Me A Ford!</td>\n",
       "      <td>1360022400</td>\n",
       "      <td>02 5, 2013</td>\n",
       "    </tr>\n",
       "    <tr>\n",
       "      <th>98</th>\n",
       "      <td>A2UTRVO4FDCBH6</td>\n",
       "      <td>0700099867</td>\n",
       "      <td>A.R.G.</td>\n",
       "      <td>[0, 0]</td>\n",
       "      <td>Overall this is a well done racing game, with ...</td>\n",
       "      <td>4.0</td>\n",
       "      <td>Good racing game, terrible Windows Live Requir...</td>\n",
       "      <td>1368230400</td>\n",
       "      <td>05 11, 2013</td>\n",
       "    </tr>\n",
       "    <tr>\n",
       "      <th>99</th>\n",
       "      <td>A37DL3ZB4BKUDB</td>\n",
       "      <td>0700099867</td>\n",
       "      <td>Barbara Hladik</td>\n",
       "      <td>[0, 0]</td>\n",
       "      <td>I have been a fan of Dirt 3 ever since Dirt 2;...</td>\n",
       "      <td>5.0</td>\n",
       "      <td>Dirt 3 puts other racing games to shame</td>\n",
       "      <td>1357084800</td>\n",
       "      <td>01 2, 2013</td>\n",
       "    </tr>\n",
       "    <tr>\n",
       "      <th>100</th>\n",
       "      <td>AN3YYDZAS3O1Y</td>\n",
       "      <td>0700099867</td>\n",
       "      <td>Bob</td>\n",
       "      <td>[11, 13]</td>\n",
       "      <td>Loved playing Dirt 2 and I thought the graphic...</td>\n",
       "      <td>5.0</td>\n",
       "      <td>A step up from Dirt 2 and that is terrific!</td>\n",
       "      <td>1313280000</td>\n",
       "      <td>08 14, 2011</td>\n",
       "    </tr>\n",
       "  </tbody>\n",
       "</table>\n",
       "</div>"
      ],
      "text/plain": [
       "         reviewerID        asin                  reviewerName   helpful  \\\n",
       "96   A361M14PU2GUEG  0700099867  Angry Ryan \"Ryan A. Forrest\"    [2, 2]   \n",
       "97    AW1X78QFLX7WL  0700099867              anne schwendiman    [0, 0]   \n",
       "98   A2UTRVO4FDCBH6  0700099867                        A.R.G.    [0, 0]   \n",
       "99   A37DL3ZB4BKUDB  0700099867                Barbara Hladik    [0, 0]   \n",
       "100   AN3YYDZAS3O1Y  0700099867                           Bob  [11, 13]   \n",
       "\n",
       "                                            reviewText  overall  \\\n",
       "96   I had Dirt 2 on Xbox 360 and it was an okay ga...      4.0   \n",
       "97   Yeah, well, the interface on D2 is way more im...      5.0   \n",
       "98   Overall this is a well done racing game, with ...      4.0   \n",
       "99   I have been a fan of Dirt 3 ever since Dirt 2;...      5.0   \n",
       "100  Loved playing Dirt 2 and I thought the graphic...      5.0   \n",
       "\n",
       "                                               summary  unixReviewTime  \\\n",
       "96                                              DIRT 3      1308009600   \n",
       "97                                     Give Me A Ford!      1360022400   \n",
       "98   Good racing game, terrible Windows Live Requir...      1368230400   \n",
       "99             Dirt 3 puts other racing games to shame      1357084800   \n",
       "100        A step up from Dirt 2 and that is terrific!      1313280000   \n",
       "\n",
       "      reviewTime  \n",
       "96   06 14, 2011  \n",
       "97    02 5, 2013  \n",
       "98   05 11, 2013  \n",
       "99    01 2, 2013  \n",
       "100  08 14, 2011  "
      ]
     },
     "execution_count": 13,
     "metadata": {},
     "output_type": "execute_result"
    }
   ],
   "source": [
    "df.tail()"
   ]
  },
  {
   "cell_type": "code",
   "execution_count": 19,
   "metadata": {},
   "outputs": [],
   "source": [
    "# df = getDF('../metadata.json.gz')\n",
    "df = getDF('../small_subsets/reviews_Patio_Lawn_and_Garden_5.json.gz')"
   ]
  },
  {
   "cell_type": "code",
   "execution_count": 20,
   "metadata": {},
   "outputs": [
    {
     "name": "stdout",
     "output_type": "stream",
     "text": [
      "/data/gpfs/projects/punim1395/workspace/dataset/Amazon_review/scripts\n"
     ]
    }
   ],
   "source": [
    "!pwd"
   ]
  },
  {
   "cell_type": "code",
   "execution_count": 21,
   "metadata": {},
   "outputs": [],
   "source": [
    "df.to_csv('../small_subsets/reviews_Patio_Lawn_and_Garden_5.csv')"
   ]
  },
  {
   "cell_type": "code",
   "execution_count": 17,
   "metadata": {},
   "outputs": [
    {
     "data": {
      "text/html": [
       "<div>\n",
       "<style scoped>\n",
       "    .dataframe tbody tr th:only-of-type {\n",
       "        vertical-align: middle;\n",
       "    }\n",
       "\n",
       "    .dataframe tbody tr th {\n",
       "        vertical-align: top;\n",
       "    }\n",
       "\n",
       "    .dataframe thead th {\n",
       "        text-align: right;\n",
       "    }\n",
       "</style>\n",
       "<table border=\"1\" class=\"dataframe\">\n",
       "  <thead>\n",
       "    <tr style=\"text-align: right;\">\n",
       "      <th></th>\n",
       "      <th>reviewerID</th>\n",
       "      <th>asin</th>\n",
       "      <th>reviewerName</th>\n",
       "      <th>helpful</th>\n",
       "      <th>reviewText</th>\n",
       "      <th>overall</th>\n",
       "      <th>summary</th>\n",
       "      <th>unixReviewTime</th>\n",
       "      <th>reviewTime</th>\n",
       "    </tr>\n",
       "  </thead>\n",
       "  <tbody>\n",
       "    <tr>\n",
       "      <th>96</th>\n",
       "      <td>A1NFXS9QOKWGO9</td>\n",
       "      <td>B00004R9TL</td>\n",
       "      <td>SalemClipper</td>\n",
       "      <td>[0, 0]</td>\n",
       "      <td>Works great and is easy to replace spool of li...</td>\n",
       "      <td>5.0</td>\n",
       "      <td>Does as designed and as advertized!</td>\n",
       "      <td>1386201600</td>\n",
       "      <td>12 5, 2013</td>\n",
       "    </tr>\n",
       "    <tr>\n",
       "      <th>97</th>\n",
       "      <td>A2GPQZHM465OUK</td>\n",
       "      <td>B00004R9TL</td>\n",
       "      <td>Ted Detjen</td>\n",
       "      <td>[1, 1]</td>\n",
       "      <td>I made the mistake of taking the spool that ca...</td>\n",
       "      <td>5.0</td>\n",
       "      <td>Handy replacements for my grass trimmer</td>\n",
       "      <td>1368489600</td>\n",
       "      <td>05 14, 2013</td>\n",
       "    </tr>\n",
       "    <tr>\n",
       "      <th>98</th>\n",
       "      <td>A10BGNHGWPN7ZE</td>\n",
       "      <td>B00004R9VV</td>\n",
       "      <td>Adam P. Layton</td>\n",
       "      <td>[0, 0]</td>\n",
       "      <td>BZZZZZTTTT.... ZAP ZAP.  Dead bugs all over th...</td>\n",
       "      <td>5.0</td>\n",
       "      <td>bug zapper</td>\n",
       "      <td>1388188800</td>\n",
       "      <td>12 28, 2013</td>\n",
       "    </tr>\n",
       "    <tr>\n",
       "      <th>99</th>\n",
       "      <td>A3H7V57O592BRH</td>\n",
       "      <td>B00004R9VV</td>\n",
       "      <td>Amazon Customer \"ML\"</td>\n",
       "      <td>[3, 4]</td>\n",
       "      <td>I bought this hoping to kill mosquitoes. I plu...</td>\n",
       "      <td>5.0</td>\n",
       "      <td>It definitely kills bugs</td>\n",
       "      <td>1250553600</td>\n",
       "      <td>08 18, 2009</td>\n",
       "    </tr>\n",
       "    <tr>\n",
       "      <th>100</th>\n",
       "      <td>A2T1YU5H4QNAR6</td>\n",
       "      <td>B00004R9VV</td>\n",
       "      <td>AnonyMouse</td>\n",
       "      <td>[0, 0]</td>\n",
       "      <td>It was a little smaller than I expected, but t...</td>\n",
       "      <td>4.0</td>\n",
       "      <td>So far I really love this product</td>\n",
       "      <td>1373241600</td>\n",
       "      <td>07 8, 2013</td>\n",
       "    </tr>\n",
       "  </tbody>\n",
       "</table>\n",
       "</div>"
      ],
      "text/plain": [
       "         reviewerID        asin          reviewerName helpful  \\\n",
       "96   A1NFXS9QOKWGO9  B00004R9TL          SalemClipper  [0, 0]   \n",
       "97   A2GPQZHM465OUK  B00004R9TL            Ted Detjen  [1, 1]   \n",
       "98   A10BGNHGWPN7ZE  B00004R9VV        Adam P. Layton  [0, 0]   \n",
       "99   A3H7V57O592BRH  B00004R9VV  Amazon Customer \"ML\"  [3, 4]   \n",
       "100  A2T1YU5H4QNAR6  B00004R9VV            AnonyMouse  [0, 0]   \n",
       "\n",
       "                                            reviewText  overall  \\\n",
       "96   Works great and is easy to replace spool of li...      5.0   \n",
       "97   I made the mistake of taking the spool that ca...      5.0   \n",
       "98   BZZZZZTTTT.... ZAP ZAP.  Dead bugs all over th...      5.0   \n",
       "99   I bought this hoping to kill mosquitoes. I plu...      5.0   \n",
       "100  It was a little smaller than I expected, but t...      4.0   \n",
       "\n",
       "                                     summary  unixReviewTime   reviewTime  \n",
       "96       Does as designed and as advertized!      1386201600   12 5, 2013  \n",
       "97   Handy replacements for my grass trimmer      1368489600  05 14, 2013  \n",
       "98                                bug zapper      1388188800  12 28, 2013  \n",
       "99                  It definitely kills bugs      1250553600  08 18, 2009  \n",
       "100        So far I really love this product      1373241600   07 8, 2013  "
      ]
     },
     "execution_count": 17,
     "metadata": {},
     "output_type": "execute_result"
    }
   ],
   "source": [
    "df.tail()"
   ]
  },
  {
   "cell_type": "code",
   "execution_count": 6,
   "metadata": {},
   "outputs": [],
   "source": [
    "df = getDF('../meta_Movies_and_TV.json.gz')"
   ]
  },
  {
   "cell_type": "code",
   "execution_count": 7,
   "metadata": {},
   "outputs": [],
   "source": [
    "df.to_csv('../meta_Movies_and_TV.csv')"
   ]
  },
  {
   "cell_type": "code",
   "execution_count": null,
   "metadata": {},
   "outputs": [],
   "source": []
  }
 ],
 "metadata": {
  "kernelspec": {
   "display_name": "Python 3.9 (XPython)",
   "language": "python",
   "name": "xpython"
  },
  "language_info": {
   "file_extension": ".py",
   "mimetype": "text/x-python",
   "name": "python",
   "version": "3.9.2"
  },
  "toc-autonumbering": true,
  "toc-showmarkdowntxt": true
 },
 "nbformat": 4,
 "nbformat_minor": 4
}
